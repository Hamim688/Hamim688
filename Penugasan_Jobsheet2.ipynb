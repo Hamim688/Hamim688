{
  "nbformat": 4,
  "nbformat_minor": 0,
  "metadata": {
    "colab": {
      "provenance": [],
      "name": "Penugasan_Jobsheet2.ipynb",
      "authorship_tag": "ABX9TyPn4jT9N9CyP7chhxqdTH74",
      "include_colab_link": true
    },
    "kernelspec": {
      "name": "python3",
      "display_name": "Python 3"
    },
    "language_info": {
      "name": "python"
    }
  },
  "cells": [
    {
      "cell_type": "markdown",
      "metadata": {
        "id": "view-in-github",
        "colab_type": "text"
      },
      "source": [
        "<a href=\"https://colab.research.google.com/github/Hamim688/Hamim688/blob/main/Penugasan_Jobsheet2.ipynb\" target=\"_parent\"><img src=\"https://colab.research.google.com/assets/colab-badge.svg\" alt=\"Open In Colab\"/></a>"
      ]
    },
    {
      "cell_type": "markdown",
      "source": [
        "Praktikum D1"
      ],
      "metadata": {
        "id": "IWbnTxxRNHdf"
      }
    },
    {
      "cell_type": "code",
      "execution_count": null,
      "metadata": {
        "colab": {
          "base_uri": "https://localhost:8080/",
          "height": 499
        },
        "id": "QZH5wLTsfsjO",
        "outputId": "b7ccbeee-2637-4518-825a-6f5e03c10705"
      },
      "outputs": [
        {
          "output_type": "stream",
          "name": "stdout",
          "text": [
            "Downloading data from https://storage.googleapis.com/tensorflow/tf-keras-datasets/mnist.npz\n",
            "\u001b[1m11490434/11490434\u001b[0m \u001b[32m━━━━━━━━━━━━━━━━━━━━\u001b[0m\u001b[37m\u001b[0m \u001b[1m0s\u001b[0m 0us/step\n",
            "Menampilkan 9 contoh gambar dari dataset MNIST:\n"
          ]
        },
        {
          "output_type": "display_data",
          "data": {
            "text/plain": [
              "<Figure size 500x500 with 9 Axes>"
            ],
            "image/png": "[encoded data removed]"
          },
          "metadata": {}
        }
      ],
      "source": [
        "import numpy as np\n",
        "import matplotlib.pyplot as plt\n",
        "from tensorflow.keras.datasets import mnist\n",
        "\n",
        "# 1. Load data MNIST\n",
        "(x_train, y_train), (x_test, y_test) = mnist.load_data()\n",
        "\n",
        "# 2. Tampilkan 9 contoh gambar pertama dari dataset training\n",
        "print(\"Menampilkan 9 contoh gambar dari dataset MNIST:\")\n",
        "plt.figure(figsize=(5, 5))\n",
        "for i in range(9):\n",
        "    plt.subplot(3, 3, i + 1)\n",
        "    plt.imshow(x_train[i], cmap='gray')\n",
        "    plt.title(f\"Label: {y_train[i]}\")\n",
        "    plt.axis('off')\n",
        "plt.show()\n",
        "\n",
        "# Tugas Kecil:\n",
        "# Cobalah ganti range(9) dengan range(25) untuk menampilkan lebih banyak contoh.\n",
        "# Apa yang Anda perhatikan dari bentuk tulisan tangan manusia? [cite: 167, 168]"
      ]
    },
    {
      "cell_type": "markdown",
      "source": [
        "Praktikum D2"
      ],
      "metadata": {
        "id": "UpJNpRmCNLWs"
      }
    },
    {
      "cell_type": "code",
      "source": [
        "from sklearn import svm\n",
        "from sklearn.metrics import accuracy_score\n",
        "from tensorflow.keras.datasets import mnist\n",
        "\n",
        "# Load data (jika belum di-load sebelumnya)\n",
        "(x_train, y_train), (x_test, y_test) = mnist.load_data()\n",
        "\n",
        "# 1. Flatten gambar dan normalisasi\n",
        "# Mengubah matriks 28x28 menjadi vektor 784, dan normalisasi nilai pixel menjadi [0, 1]\n",
        "nsamples, nx, ny = x_train.shape\n",
        "x_train_flat = x_train.reshape((nsamples, nx * ny)) / 255.0\n",
        "\n",
        "nsamples_test, nx_test, ny_test = x_test.shape\n",
        "x_test_flat = x_test.reshape((nsamples_test, nx_test * ny_test)) / 255.0\n",
        "\n",
        "# 2. Latih model SVM\n",
        "# Menggunakan subset data (5000 sampel) karena SVM berat secara komputasi [cite: 197]\n",
        "print(\"Melatih model SVM dengan 5000 data training...\")\n",
        "clf = svm.SVC(kernel='linear', gamma='scale')\n",
        "clf.fit(x_train_flat[:5000], y_train[:5000])\n",
        "print(\"Pelatihan selesai.\")\n",
        "\n",
        "# 3. Uji model pada data test\n",
        "print(\"Menguji model pada data test...\")\n",
        "y_pred = clf.predict(x_test_flat)\n",
        "akurasi = accuracy_score(y_test, y_pred)\n",
        "print(f\"Akurasi SVM (kernel=linear): {akurasi:.4f}\")\n",
        "\n",
        "# Tugas Kecil:\n",
        "# Ubah kernel dari 'linear' menjadi 'rbf'. Bagaimana pengaruhnya terhadap akurasi? [cite: 202]\n",
        "# Contoh: clf_rbf = svm.SVC(kernel='rbf', gamma='scale')"
      ],
      "metadata": {
        "colab": {
          "base_uri": "https://localhost:8080/"
        },
        "id": "3eivBtGcNKs1",
        "outputId": "56d9e3d1-59d5-40e9-dcca-9d9d10e39917"
      },
      "execution_count": null,
      "outputs": [
        {
          "output_type": "stream",
          "name": "stdout",
          "text": [
            "Melatih model SVM dengan 5000 data training...\n",
            "Pelatihan selesai.\n",
            "Menguji model pada data test...\n",
            "Akurasi SVM (kernel=linear): 0.9101\n"
          ]
        }
      ]
    },
    {
      "cell_type": "markdown",
      "source": [
        "Praktikum D3"
      ],
      "metadata": {
        "id": "_yPPvMcfNWmd"
      }
    },
    {
      "cell_type": "code",
      "source": [
        "import tensorflow as tf\n",
        "from tensorflow.keras import layers, models\n",
        "from tensorflow.keras.datasets import mnist\n",
        "import matplotlib.pyplot as plt\n",
        "\n",
        "# Load data (jika belum)\n",
        "(x_train, y_train), (x_test, y_test) = mnist.load_data()\n",
        "\n",
        "# 1. Ubah bentuk data dan normalisasi untuk CNN\n",
        "# CNN membutuhkan dimensi channel, jadi (28, 28) -> (28, 28, 1) [cite: 206]\n",
        "x_train_cnn = x_train.reshape(-1, 28, 28, 1) / 255.0\n",
        "x_test_cnn = x_test.reshape(-1, 28, 28, 1) / 255.0\n",
        "\n",
        "# 2. Bangun arsitektur model CNN [cite: 207]\n",
        "model = models.Sequential([\n",
        "    layers.Conv2D(32, (3, 3), activation='relu', input_shape=(28, 28, 1)),\n",
        "    layers.MaxPooling2D((2, 2)),\n",
        "    layers.Flatten(),\n",
        "    layers.Dense(64, activation='relu'),\n",
        "    layers.Dense(10, activation='softmax') # 10 kelas untuk digit 0-9\n",
        "])\n",
        "\n",
        "model.summary()\n",
        "\n",
        "# 3. Compile dan latih model\n",
        "model.compile(optimizer='adam',\n",
        "              loss='sparse_categorical_crossentropy',\n",
        "              metrics=['accuracy'])\n",
        "\n",
        "print(\"\\nMelatih model CNN...\")\n",
        "history = model.fit(x_train_cnn, y_train, epochs=5, validation_split=0.1)\n",
        "print(\"Pelatihan selesai.\")\n",
        "\n",
        "# 4. Plot history akurasi dan loss\n",
        "plt.figure(figsize=(12, 5))\n",
        "\n",
        "# Plot Akurasi\n",
        "plt.subplot(1, 2, 1)\n",
        "plt.plot(history.history['accuracy'], label='Training Accuracy')\n",
        "plt.plot(history.history['val_accuracy'], label='Validation Accuracy')\n",
        "plt.title('CNN Accuracy')\n",
        "plt.xlabel('Epoch')\n",
        "plt.ylabel('Accuracy')\n",
        "plt.legend()\n",
        "\n",
        "# Plot Loss\n",
        "plt.subplot(1, 2, 2)\n",
        "plt.plot(history.history['loss'], label='Training Loss')\n",
        "plt.plot(history.history['val_loss'], label='Validation Loss')\n",
        "plt.title('CNN Loss')\n",
        "plt.xlabel('Epoch')\n",
        "plt.ylabel('Loss')\n",
        "plt.legend()\n",
        "\n",
        "plt.show()\n",
        "\n",
        "# Tugas Kecil:\n",
        "# Tambahkan satu lapisan Conv2D lagi sebelum Flatten. Apakah akurasinya meningkat? [cite: 244]"
      ],
      "metadata": {
        "colab": {
          "base_uri": "https://localhost:8080/",
          "height": 1000
        },
        "id": "7BUWWDm1NYK1",
        "outputId": "a4373d2b-ae4f-422b-826c-13ee868fe787"
      },
      "execution_count": null,
      "outputs": [
        {
          "output_type": "stream",
          "name": "stderr",
          "text": [
            "/usr/local/lib/python3.12/dist-packages/keras/src/layers/convolutional/base_conv.py:113: UserWarning: Do not pass an `input_shape`/`input_dim` argument to a layer. When using Sequential models, prefer using an `Input(shape)` object as the first layer in the model instead.\n",
            "  super().__init__(activity_regularizer=activity_regularizer, **kwargs)\n"
          ]
        },
        {
          "output_type": "display_data",
          "data": {
            "text/plain": [
              "\u001b[1mModel: \"sequential\"\u001b[0m\n"
            ],
            "text/html": [
              "<pre style=\"white-space:pre;overflow-x:auto;line-height:normal;font-family:Menlo,'DejaVu Sans Mono',consolas,'Courier New',monospace\"><span style=\"font-weight: bold\">Model: \"sequential\"</span>\n",
              "</pre>\n"
            ]
          },
          "metadata": {}
        },
        {
          "output_type": "display_data",
          "data": {
            "text/plain": [
              "┏━━━━━━━━━━━━━━━━━━━━━━━━━━━━━━━━━┳━━━━━━━━━━━━━━━━━━━━━━━━┳━━━━━━━━━━━━━━━┓\n",
              "┃\u001b[1m \u001b[0m\u001b[1mLayer (type)                   \u001b[0m\u001b[1m \u001b[0m┃\u001b[1m \u001b[0m\u001b[1mOutput Shape          \u001b[0m\u001b[1m \u001b[0m┃\u001b[1m \u001b[0m\u001b[1m      Param #\u001b[0m\u001b[1m \u001b[0m┃\n",
              "┡━━━━━━━━━━━━━━━━━━━━━━━━━━━━━━━━━╇━━━━━━━━━━━━━━━━━━━━━━━━╇━━━━━━━━━━━━━━━┩\n",
              "│ conv2d (\u001b[38;5;33mConv2D\u001b[0m)                 │ (\u001b[38;5;45mNone\u001b[0m, \u001b[38;5;34m26\u001b[0m, \u001b[38;5;34m26\u001b[0m, \u001b[38;5;34m32\u001b[0m)     │           \u001b[38;5;34m320\u001b[0m │\n",
              "├─────────────────────────────────┼────────────────────────┼───────────────┤\n",
              "│ max_pooling2d (\u001b[38;5;33mMaxPooling2D\u001b[0m)    │ (\u001b[38;5;45mNone\u001b[0m, \u001b[38;5;34m13\u001b[0m, \u001b[38;5;34m13\u001b[0m, \u001b[38;5;34m32\u001b[0m)     │             \u001b[38;5;34m0\u001b[0m │\n",
              "├─────────────────────────────────┼────────────────────────┼───────────────┤\n",
              "│ flatten (\u001b[38;5;33mFlatten\u001b[0m)               │ (\u001b[38;5;45mNone\u001b[0m, \u001b[38;5;34m5408\u001b[0m)           │             \u001b[38;5;34m0\u001b[0m │\n",
              "├─────────────────────────────────┼────────────────────────┼───────────────┤\n",
              "│ dense (\u001b[38;5;33mDense\u001b[0m)                   │ (\u001b[38;5;45mNone\u001b[0m, \u001b[38;5;34m64\u001b[0m)             │       \u001b[38;5;34m346,176\u001b[0m │\n",
              "├─────────────────────────────────┼────────────────────────┼───────────────┤\n",
              "│ dense_1 (\u001b[38;5;33mDense\u001b[0m)                 │ (\u001b[38;5;45mNone\u001b[0m, \u001b[38;5;34m10\u001b[0m)             │           \u001b[38;5;34m650\u001b[0m │\n",
              "└─────────────────────────────────┴────────────────────────┴───────────────┘\n"
            ],
            "text/html": [
              "<pre style=\"white-space:pre;overflow-x:auto;line-height:normal;font-family:Menlo,'DejaVu Sans Mono',consolas,'Courier New',monospace\">┏━━━━━━━━━━━━━━━━━━━━━━━━━━━━━━━━━┳━━━━━━━━━━━━━━━━━━━━━━━━┳━━━━━━━━━━━━━━━┓\n",
              "┃<span style=\"font-weight: bold\"> Layer (type)                    </span>┃<span style=\"font-weight: bold\"> Output Shape           </span>┃<span style=\"font-weight: bold\">       Param # </span>┃\n",
              "┡━━━━━━━━━━━━━━━━━━━━━━━━━━━━━━━━━╇━━━━━━━━━━━━━━━━━━━━━━━━╇━━━━━━━━━━━━━━━┩\n",
              "│ conv2d (<span style=\"color: #0087ff; text-decoration-color: #0087ff\">Conv2D</span>)                 │ (<span style=\"color: #00d7ff; text-decoration-color: #00d7ff\">None</span>, <span style=\"color: #00af00; text-decoration-color: #00af00\">26</span>, <span style=\"color: #00af00; text-decoration-color: #00af00\">26</span>, <span style=\"color: #00af00; text-decoration-color: #00af00\">32</span>)     │           <span style=\"color: #00af00; text-decoration-color: #00af00\">320</span> │\n",
              "├─────────────────────────────────┼────────────────────────┼───────────────┤\n",
              "│ max_pooling2d (<span style=\"color: #0087ff; text-decoration-color: #0087ff\">MaxPooling2D</span>)    │ (<span style=\"color: #00d7ff; text-decoration-color: #00d7ff\">None</span>, <span style=\"color: #00af00; text-decoration-color: #00af00\">13</span>, <span style=\"color: #00af00; text-decoration-color: #00af00\">13</span>, <span style=\"color: #00af00; text-decoration-color: #00af00\">32</span>)     │             <span style=\"color: #00af00; text-decoration-color: #00af00\">0</span> │\n",
              "├─────────────────────────────────┼────────────────────────┼───────────────┤\n",
              "│ flatten (<span style=\"color: #0087ff; text-decoration-color: #0087ff\">Flatten</span>)               │ (<span style=\"color: #00d7ff; text-decoration-color: #00d7ff\">None</span>, <span style=\"color: #00af00; text-decoration-color: #00af00\">5408</span>)           │             <span style=\"color: #00af00; text-decoration-color: #00af00\">0</span> │\n",
              "├─────────────────────────────────┼────────────────────────┼───────────────┤\n",
              "│ dense (<span style=\"color: #0087ff; text-decoration-color: #0087ff\">Dense</span>)                   │ (<span style=\"color: #00d7ff; text-decoration-color: #00d7ff\">None</span>, <span style=\"color: #00af00; text-decoration-color: #00af00\">64</span>)             │       <span style=\"color: #00af00; text-decoration-color: #00af00\">346,176</span> │\n",
              "├─────────────────────────────────┼────────────────────────┼───────────────┤\n",
              "│ dense_1 (<span style=\"color: #0087ff; text-decoration-color: #0087ff\">Dense</span>)                 │ (<span style=\"color: #00d7ff; text-decoration-color: #00d7ff\">None</span>, <span style=\"color: #00af00; text-decoration-color: #00af00\">10</span>)             │           <span style=\"color: #00af00; text-decoration-color: #00af00\">650</span> │\n",
              "└─────────────────────────────────┴────────────────────────┴───────────────┘\n",
              "</pre>\n"
            ]
          },
          "metadata": {}
        },
        {
          "output_type": "display_data",
          "data": {
            "text/plain": [
              "\u001b[1m Total params: \u001b[0m\u001b[38;5;34m347,146\u001b[0m (1.32 MB)\n"
            ],
            "text/html": [
              "<pre style=\"white-space:pre;overflow-x:auto;line-height:normal;font-family:Menlo,'DejaVu Sans Mono',consolas,'Courier New',monospace\"><span style=\"font-weight: bold\"> Total params: </span><span style=\"color: #00af00; text-decoration-color: #00af00\">347,146</span> (1.32 MB)\n",
              "</pre>\n"
            ]
          },
          "metadata": {}
        },
        {
          "output_type": "display_data",
          "data": {
            "text/plain": [
              "\u001b[1m Trainable params: \u001b[0m\u001b[38;5;34m347,146\u001b[0m (1.32 MB)\n"
            ],
            "text/html": [
              "<pre style=\"white-space:pre;overflow-x:auto;line-height:normal;font-family:Menlo,'DejaVu Sans Mono',consolas,'Courier New',monospace\"><span style=\"font-weight: bold\"> Trainable params: </span><span style=\"color: #00af00; text-decoration-color: #00af00\">347,146</span> (1.32 MB)\n",
              "</pre>\n"
            ]
          },
          "metadata": {}
        },
        {
          "output_type": "display_data",
          "data": {
            "text/plain": [
              "\u001b[1m Non-trainable params: \u001b[0m\u001b[38;5;34m0\u001b[0m (0.00 B)\n"
            ],
            "text/html": [
              "<pre style=\"white-space:pre;overflow-x:auto;line-height:normal;font-family:Menlo,'DejaVu Sans Mono',consolas,'Courier New',monospace\"><span style=\"font-weight: bold\"> Non-trainable params: </span><span style=\"color: #00af00; text-decoration-color: #00af00\">0</span> (0.00 B)\n",
              "</pre>\n"
            ]
          },
          "metadata": {}
        },
        {
          "output_type": "stream",
          "name": "stdout",
          "text": [
            "\n",
            "Melatih model CNN...\n",
            "Epoch 1/5\n",
            "\u001b[1m1688/1688\u001b[0m \u001b[32m━━━━━━━━━━━━━━━━━━━━\u001b[0m\u001b[37m\u001b[0m \u001b[1m29s\u001b[0m 16ms/step - accuracy: 0.8987 - loss: 0.3473 - val_accuracy: 0.9795 - val_loss: 0.0718\n",
            "Epoch 2/5\n",
            "\u001b[1m1688/1688\u001b[0m \u001b[32m━━━━━━━━━━━━━━━━━━━━\u001b[0m\u001b[37m\u001b[0m \u001b[1m42s\u001b[0m 17ms/step - accuracy: 0.9807 - loss: 0.0647 - val_accuracy: 0.9845 - val_loss: 0.0553\n",
            "Epoch 3/5\n",
            "\u001b[1m1688/1688\u001b[0m \u001b[32m━━━━━━━━━━━━━━━━━━━━\u001b[0m\u001b[37m\u001b[0m \u001b[1m40s\u001b[0m 16ms/step - accuracy: 0.9879 - loss: 0.0406 - val_accuracy: 0.9870 - val_loss: 0.0485\n",
            "Epoch 4/5\n",
            "\u001b[1m1688/1688\u001b[0m \u001b[32m━━━━━━━━━━━━━━━━━━━━\u001b[0m\u001b[37m\u001b[0m \u001b[1m27s\u001b[0m 16ms/step - accuracy: 0.9916 - loss: 0.0284 - val_accuracy: 0.9887 - val_loss: 0.0518\n",
            "Epoch 5/5\n",
            "\u001b[1m1688/1688\u001b[0m \u001b[32m━━━━━━━━━━━━━━━━━━━━\u001b[0m\u001b[37m\u001b[0m \u001b[1m27s\u001b[0m 16ms/step - accuracy: 0.9935 - loss: 0.0202 - val_accuracy: 0.9848 - val_loss: 0.0531\n",
            "Pelatihan selesai.\n"
          ]
        },
        {
          "output_type": "display_data",
          "data": {
            "text/plain": [
              "<Figure size 1200x500 with 2 Axes>"
            ],
            "image/png": "[encoded data removed]"
          },
          "metadata": {}
        }
      ]
    },
    {
      "cell_type": "markdown",
      "source": [
        "Tugas"
      ],
      "metadata": {
        "id": "97ZlwXB0Nj4U"
      }
    },
    {
      "cell_type": "code",
      "source": [
        "# Import library yang dibutuhkan\n",
        "from google.colab import files\n",
        "from PIL import Image, ImageOps\n",
        "import numpy as np\n",
        "import matplotlib.pyplot as plt\n",
        "\n",
        "# ===== 1) Upload file foto tulisan angka =====\n",
        "print(\"Silakan upload file gambar angka tulisan tangan Anda (jpg/png):\")\n",
        "uploaded = files.upload() # Akan muncul tombol untuk memilih file\n",
        "\n",
        "# ===== 2) Fungsi Preprocess agar mirip MNIST (28x28, putih-di-atas-hitam) =====\n",
        "def preprocess_to_mnist_28x28(img_pil):\n",
        "    # Konversi ke grayscale (hitam-putih)\n",
        "    img = img_pil.convert('L')\n",
        "\n",
        "    # Invert warna jika latar belakangnya terang (putih), agar jadi seperti MNIST\n",
        "    # di mana angka berwarna putih dan latar belakang hitam.\n",
        "    arr_check = np.array(img)\n",
        "    if arr_check.mean() > 127:\n",
        "        img = ImageOps.invert(img)\n",
        "\n",
        "    # Crop gambar untuk membuang area kosong di sekeliling angka\n",
        "    arr = np.array(img)\n",
        "    mask = arr > np.mean(arr) * 0.8\n",
        "    if mask.any():\n",
        "        ys, xs = np.where(mask)\n",
        "        y0, y1 = ys.min(), ys.max()\n",
        "        x0, x1 = xs.min(), xs.max()\n",
        "        img = img.crop((x0, y0, x1 + 1, y1 + 1))\n",
        "\n",
        "    # Resize gambar ke 20x20 dengan mempertahankan rasio\n",
        "    img.thumbnail((20, 20), Image.Resampling.LANCZOS)\n",
        "\n",
        "    # Buat kanvas kosong 28x28 dan letakkan gambar angka di tengah\n",
        "    w, h = img.size\n",
        "    canvas = Image.new('L', (28, 28), color=0)\n",
        "    canvas.paste(img, ((28 - w) // 2, (28 - h) // 2))\n",
        "\n",
        "    # Normalisasi nilai piksel ke rentang [0, 1] dan tambahkan dimensi channel\n",
        "    arr = np.array(canvas).astype('float32') / 255.0\n",
        "    arr = arr[..., None] # Menjadi (28, 28, 1)\n",
        "\n",
        "    return canvas, arr\n",
        "\n",
        "print(\"\\nPre-processing gambar selesai!\")"
      ],
      "metadata": {
        "colab": {
          "base_uri": "https://localhost:8080/",
          "height": 199
        },
        "id": "91lr7j6hOT18",
        "outputId": "755173b4-bebf-45c5-a5df-265b1f557d00"
      },
      "execution_count": null,
      "outputs": [
        {
          "output_type": "stream",
          "name": "stdout",
          "text": [
            "Silakan upload file gambar angka tulisan tangan Anda (jpg/png):\n"
          ]
        },
        {
          "output_type": "display_data",
          "data": {
            "text/plain": [
              "<IPython.core.display.HTML object>"
            ],
            "text/html": [
              "\n",
              "     <input type=\"file\" id=\"files-3f016505-0b69-4c26-a59f-e5d87587d05b\" name=\"files[]\" multiple disabled\n",
              "        style=\"border:none\" />\n",
              "     <output id=\"result-3f016505-0b69-4c26-a59f-e5d87587d05b\">\n",
              "      Upload widget is only available when the cell has been executed in the\n",
              "      current browser session. Please rerun this cell to enable.\n",
              "      </output>\n",
              "      <script>// Copyright 2017 Google LLC\n",
              "//\n",
              "// Licensed under the Apache License, Version 2.0 (the \"License\");\n",
              "// you may not use this file except in compliance with the License.\n",
              "// You may obtain a copy of the License at\n",
              "//\n",
              "//      http://www.apache.org/licenses/LICENSE-2.0\n",
              "//\n",
              "// Unless required by applicable law or agreed to in writing, software\n",
              "// distributed under the License is distributed on an \"AS IS\" BASIS,\n",
              "// WITHOUT WARRANTIES OR CONDITIONS OF ANY KIND, either express or implied.\n",
              "// See the License for the specific language governing permissions and\n",
              "// limitations under the License.\n",
              "\n",
              "/**\n",
              " * @fileoverview Helpers for google.colab Python module.\n",
              " */\n",
              "(function(scope) {\n",
              "function span(text, styleAttributes = {}) {\n",
              "  const element = document.createElement('span');\n",
              "  element.textContent = text;\n",
              "  for (const key of Object.keys(styleAttributes)) {\n",
              "    element.style[key] = styleAttributes[key];\n",
              "  }\n",
              "  return element;\n",
              "}\n",
              "\n",
              "// Max number of bytes which will be uploaded at a time.\n",
              "const MAX_PAYLOAD_SIZE = 100 * 1024;\n",
              "\n",
              "function _uploadFiles(inputId, outputId) {\n",
              "  const steps = uploadFilesStep(inputId, outputId);\n",
              "  const outputElement = document.getElementById(outputId);\n",
              "  // Cache steps on the outputElement to make it available for the next call\n",
              "  // to uploadFilesContinue from Python.\n",
              "  outputElement.steps = steps;\n",
              "\n",
              "  return _uploadFilesContinue(outputId);\n",
              "}\n",
              "\n",
              "// This is roughly an async generator (not supported in the browser yet),\n",
              "// where there are multiple asynchronous steps and the Python side is going\n",
              "// to poll for completion of each step.\n",
              "// This uses a Promise to block the python side on completion of each step,\n",
              "// then passes the result of the previous step as the input to the next step.\n",
              "function _uploadFilesContinue(outputId) {\n",
              "  const outputElement = document.getElementById(outputId);\n",
              "  const steps = outputElement.steps;\n",
              "\n",
              "  const next = steps.next(outputElement.lastPromiseValue);\n",
              "  return Promise.resolve(next.value.promise).then((value) => {\n",
              "    // Cache the last promise value to make it available to the next\n",
              "    // step of the generator.\n",
              "    outputElement.lastPromiseValue = value;\n",
              "    return next.value.response;\n",
              "  });\n",
              "}\n",
              "\n",
              "/**\n",
              " * Generator function which is called between each async step of the upload\n",
              " * process.\n",
              " * @param {string} inputId Element ID of the input file picker element.\n",
              " * @param {string} outputId Element ID of the output display.\n",
              " * @return {!Iterable<!Object>} Iterable of next steps.\n",
              " */\n",
              "function* uploadFilesStep(inputId, outputId) {\n",
              "  const inputElement = document.getElementById(inputId);\n",
              "  inputElement.disabled = false;\n",
              "\n",
              "  const outputElement = document.getElementById(outputId);\n",
              "  outputElement.innerHTML = '';\n",
              "\n",
              "  const pickedPromise = new Promise((resolve) => {\n",
              "    inputElement.addEventListener('change', (e) => {\n",
              "      resolve(e.target.files);\n",
              "    });\n",
              "  });\n",
              "\n",
              "  const cancel = document.createElement('button');\n",
              "  inputElement.parentElement.appendChild(cancel);\n",
              "  cancel.textContent = 'Cancel upload';\n",
              "  const cancelPromise = new Promise((resolve) => {\n",
              "    cancel.onclick = () => {\n",
              "      resolve(null);\n",
              "    };\n",
              "  });\n",
              "\n",
              "  // Wait for the user to pick the files.\n",
              "  const files = yield {\n",
              "    promise: Promise.race([pickedPromise, cancelPromise]),\n",
              "    response: {\n",
              "      action: 'starting',\n",
              "    }\n",
              "  };\n",
              "\n",
              "  cancel.remove();\n",
              "\n",
              "  // Disable the input element since further picks are not allowed.\n",
              "  inputElement.disabled = true;\n",
              "\n",
              "  if (!files) {\n",
              "    return {\n",
              "      response: {\n",
              "        action: 'complete',\n",
              "      }\n",
              "    };\n",
              "  }\n",
              "\n",
              "  for (const file of files) {\n",
              "    const li = document.createElement('li');\n",
              "    li.append(span(file.name, {fontWeight: 'bold'}));\n",
              "    li.append(span(\n",
              "        `(${file.type || 'n/a'}) - ${file.size} bytes, ` +\n",
              "        `last modified: ${\n",
              "            file.lastModifiedDate ? file.lastModifiedDate.toLocaleDateString() :\n",
              "                                    'n/a'} - `));\n",
              "    const percent = span('0% done');\n",
              "    li.appendChild(percent);\n",
              "\n",
              "    outputElement.appendChild(li);\n",
              "\n",
              "    const fileDataPromise = new Promise((resolve) => {\n",
              "      const reader = new FileReader();\n",
              "      reader.onload = (e) => {\n",
              "        resolve(e.target.result);\n",
              "      };\n",
              "      reader.readAsArrayBuffer(file);\n",
              "    });\n",
              "    // Wait for the data to be ready.\n",
              "    let fileData = yield {\n",
              "      promise: fileDataPromise,\n",
              "      response: {\n",
              "        action: 'continue',\n",
              "      }\n",
              "    };\n",
              "\n",
              "    // Use a chunked sending to avoid message size limits. See b/62115660.\n",
              "    let position = 0;\n",
              "    do {\n",
              "      const length = Math.min(fileData.byteLength - position, MAX_PAYLOAD_SIZE);\n",
              "      const chunk = new Uint8Array(fileData, position, length);\n",
              "      position += length;\n",
              "\n",
              "      const base64 = btoa(String.fromCharCode.apply(null, chunk));\n",
              "      yield {\n",
              "        response: {\n",
              "          action: 'append',\n",
              "          file: file.name,\n",
              "          data: base64,\n",
              "        },\n",
              "      };\n",
              "\n",
              "      let percentDone = fileData.byteLength === 0 ?\n",
              "          100 :\n",
              "          Math.round((position / fileData.byteLength) * 100);\n",
              "      percent.textContent = `${percentDone}% done`;\n",
              "\n",
              "    } while (position < fileData.byteLength);\n",
              "  }\n",
              "\n",
              "  // All done.\n",
              "  yield {\n",
              "    response: {\n",
              "      action: 'complete',\n",
              "    }\n",
              "  };\n",
              "}\n",
              "\n",
              "scope.google = scope.google || {};\n",
              "scope.google.colab = scope.google.colab || {};\n",
              "scope.google.colab._files = {\n",
              "  _uploadFiles,\n",
              "  _uploadFilesContinue,\n",
              "};\n",
              "})(self);\n",
              "</script> "
            ]
          },
          "metadata": {}
        },
        {
          "output_type": "stream",
          "name": "stdout",
          "text": [
            "Saving 6.jpg to 6 (2).jpg\n",
            "Saving 9.jpg to 9 (2).jpg\n",
            "Saving 9V2.jpg to 9V2.jpg\n",
            "\n",
            "Pre-processing gambar selesai!\n"
          ]
        }
      ]
    },
    {
      "cell_type": "code",
      "source": [
        "# Pastikan variabel 'model' dari praktikum D3 sudah ada\n",
        "try:\n",
        "    model\n",
        "except NameError:\n",
        "    print(\"Error: Variabel 'model' CNN tidak ditemukan. Jalankan dulu kode Praktikum D3!\")\n",
        "else:\n",
        "    # Lakukan prediksi untuk setiap gambar yang di-upload\n",
        "    for fname in uploaded.keys():\n",
        "        img_pil = Image.open(fname)\n",
        "        # Pre-process gambar\n",
        "        disp_img, processed_arr = preprocess_to_mnist_28x28(img_pil)\n",
        "\n",
        "        # Siapkan gambar untuk dimasukkan ke model CNN (butuh batch dimension)\n",
        "        x_batch = np.expand_dims(processed_arr, axis=0)\n",
        "\n",
        "        # Prediksi probabilitas untuk setiap kelas (0-9)\n",
        "        probs = model.predict(x_batch, verbose=0)[0]\n",
        "        prediksi = int(np.argmax(probs))\n",
        "        kepercayaan = float(np.max(probs))\n",
        "\n",
        "        # Tampilkan hasil prediksi\n",
        "        plt.figure(figsize=(3, 3))\n",
        "        plt.imshow(disp_img, cmap='gray')\n",
        "        plt.title(f\"Prediksi CNN: {prediksi} (Kepercayaan: {kepercayaan:.2f})\")\n",
        "        plt.axis('off')\n",
        "        plt.show()\n",
        "\n",
        "        print(f\"Hasil untuk file '{fname}':\")\n",
        "        print(f\"-> Model CNN memprediksi angka ini sebagai: {prediksi}\")\n",
        "        print(f\"-> Tingkat kepercayaan: {kepercayaan:.3f}\")"
      ],
      "metadata": {
        "colab": {
          "base_uri": "https://localhost:8080/",
          "height": 1000
        },
        "id": "67ToO15UP_lU",
        "outputId": "5c470030-672e-47de-cc0d-f947cad2a250"
      },
      "execution_count": null,
      "outputs": [
        {
          "output_type": "display_data",
          "data": {
            "text/plain": [
              "<Figure size 300x300 with 1 Axes>"
            ],
            "image/png": "[encoded data removed]"
          },
          "metadata": {}
        },
        {
          "output_type": "stream",
          "name": "stdout",
          "text": [
            "Hasil untuk file '6 (2).jpg':\n",
            "-> Model CNN memprediksi angka ini sebagai: 6\n",
            "-> Tingkat kepercayaan: 0.960\n"
          ]
        },
        {
          "output_type": "display_data",
          "data": {
            "text/plain": [
              "<Figure size 300x300 with 1 Axes>"
            ],
            "image/png": "[encoded data removed]"
          },
          "metadata": {}
        },
        {
          "output_type": "stream",
          "name": "stdout",
          "text": [
            "Hasil untuk file '9 (2).jpg':\n",
            "-> Model CNN memprediksi angka ini sebagai: 9\n",
            "-> Tingkat kepercayaan: 0.932\n"
          ]
        },
        {
          "output_type": "display_data",
          "data": {
            "text/plain": [
              "<Figure size 300x300 with 1 Axes>"
            ],
            "image/png": "[encoded data removed]"
          },
          "metadata": {}
        },
        {
          "output_type": "stream",
          "name": "stdout",
          "text": [
            "Hasil untuk file '9V2.jpg':\n",
            "-> Model CNN memprediksi angka ini sebagai: 9\n",
            "-> Tingkat kepercayaan: 0.904\n"
          ]
        }
      ]
    },
    {
      "cell_type": "markdown",
      "source": [
        "coba pakai SVM"
      ],
      "metadata": {
        "id": "MhV7xEJwRN-Q"
      }
    },
    {
      "cell_type": "code",
      "source": [
        "# Pastikan variabel 'clf' dari praktikum D2 sudah ada\n",
        "try:\n",
        "    clf\n",
        "except NameError:\n",
        "    print(\"Error: Variabel 'clf' SVM tidak ditemukan. Jalankan dulu kode Praktikum D2!\")\n",
        "else:\n",
        "    # Lakukan prediksi untuk setiap gambar yang di-upload\n",
        "    for fname in uploaded.keys():\n",
        "        img_pil = Image.open(fname)\n",
        "        # Pre-process gambar\n",
        "        disp_img, processed_arr = preprocess_to_mnist_28x28(img_pil)\n",
        "\n",
        "        # Siapkan gambar untuk model SVM (butuh diratakan/flatten menjadi vektor 784)\n",
        "        x_flat = processed_arr.reshape(1, -1)\n",
        "\n",
        "        # Prediksi dengan model SVM\n",
        "        prediksi = int(clf.predict(x_flat)[0])\n",
        "\n",
        "        # Tampilkan hasil\n",
        "        plt.figure(figsize=(3, 3))\n",
        "        plt.imshow(disp_img, cmap='gray')\n",
        "        plt.title(f\"Prediksi SVM: {prediksi}\")\n",
        "        plt.axis('off')\n",
        "        plt.show()\n",
        "\n",
        "        print(f\"Hasil untuk file '{fname}':\")\n",
        "        print(f\"-> Model SVM memprediksi angka ini sebagai: {prediksi}\")"
      ],
      "metadata": {
        "colab": {
          "base_uri": "https://localhost:8080/",
          "height": 636
        },
        "id": "H0MAYQViRNcn",
        "outputId": "45b4deea-640e-478d-af41-0023bb3ffce5"
      },
      "execution_count": null,
      "outputs": [
        {
          "output_type": "display_data",
          "data": {
            "text/plain": [
              "<Figure size 300x300 with 1 Axes>"
            ],
            "image/png": "[encoded data removed]"
          },
          "metadata": {}
        },
        {
          "output_type": "stream",
          "name": "stdout",
          "text": [
            "Hasil untuk file '6 (1).jpg':\n",
            "-> Model SVM memprediksi angka ini sebagai: 4\n"
          ]
        },
        {
          "output_type": "display_data",
          "data": {
            "text/plain": [
              "<Figure size 300x300 with 1 Axes>"
            ],
            "image/png": "[encoded data removed]"
          },
          "metadata": {}
        },
        {
          "output_type": "stream",
          "name": "stdout",
          "text": [
            "Hasil untuk file '9 (1).jpg':\n",
            "-> Model SVM memprediksi angka ini sebagai: 9\n"
          ]
        }
      ]
    }
  ]
}